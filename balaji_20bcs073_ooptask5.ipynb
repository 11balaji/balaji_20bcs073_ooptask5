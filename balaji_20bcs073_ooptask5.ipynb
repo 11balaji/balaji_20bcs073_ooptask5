{
  "nbformat": 4,
  "nbformat_minor": 0,
  "metadata": {
    "colab": {
      "name": "balaji_20bcs073_ooptask5",
      "provenance": [],
      "authorship_tag": "ABX9TyMg2nk7BFy7onBBFyzwQX9R",
      "include_colab_link": true
    },
    "kernelspec": {
      "name": "python3",
      "display_name": "Python 3"
    },
    "language_info": {
      "name": "python"
    }
  },
  "cells": [
    {
      "cell_type": "markdown",
      "metadata": {
        "id": "view-in-github",
        "colab_type": "text"
      },
      "source": [
        "<a href=\"https://colab.research.google.com/github/11balaji/balaji_20bcs073_ooptask5/blob/main/balaji_20bcs073_ooptask5.ipynb\" target=\"_parent\"><img src=\"https://colab.research.google.com/assets/colab-badge.svg\" alt=\"Open In Colab\"/></a>"
      ]
    },
    {
      "cell_type": "code",
      "metadata": {
        "colab": {
          "base_uri": "https://localhost:8080/"
        },
        "id": "-mHJSltBXJOO",
        "outputId": "85c4c1db-9be9-4d3d-eb5e-3e01fa9dba10"
      },
      "source": [
        "from abc import ABC, abstractmethod\n",
        "import math\n",
        "class Shape(ABC):\n",
        "    def __init__(self, shape):\n",
        "        self.shape = shape\n",
        "\n",
        "    @abstractmethod\n",
        "    def area(self):\n",
        "        pass\n",
        "\n",
        "class Rectangle(Shape):\n",
        "    def __init__(self, length, breadth):\n",
        "        Shape.__init__(self, 'Rectangle')\n",
        "        self.length = length\n",
        "        self.breadth = breadth\n",
        "\n",
        "    def area(self):\n",
        "        return self.length*self.breadth\n",
        "\n",
        "class Circle(Shape):\n",
        "    def __init__(self, radius):\n",
        "        Shape.__init__(self, 'Circle')\n",
        "        self.radius = radius\n",
        "\n",
        "    def area(self):\n",
        "        return round((math.pi)*(self.radius**2),3)\n",
        "\n",
        "class Square(Shape):\n",
        "    def __init__(self, side):\n",
        "        Shape.__init__(self, 'Square')\n",
        "        self.side = side\n",
        "\n",
        "    def area(self):\n",
        "        return self.side*self.side\n",
        "\n",
        "sq = Square(9)\n",
        "print(\"Area of square   :\", sq.area())\n",
        "rect = Rectangle(5,7)\n",
        "print(\"Area of rectangle:\", rect.area())\n",
        "c = Circle(8)\n",
        "print(\"Area of circle   :\", c.area())"
      ],
      "execution_count": 5,
      "outputs": [
        {
          "output_type": "stream",
          "name": "stdout",
          "text": [
            "Area of square   : 81\n",
            "Area of rectangle: 35\n",
            "Area of circle   : 201.062\n"
          ]
        }
      ]
    },
    {
      "cell_type": "code",
      "metadata": {
        "colab": {
          "base_uri": "https://localhost:8080/"
        },
        "id": "z6UhEQ6sahK7",
        "outputId": "f5eb1774-30be-4303-d50c-35d932feae1a"
      },
      "source": [
        "class Travel:\n",
        "\n",
        "  def __init__(self, travel):\n",
        "    self.travel = travel\n",
        "\n",
        "  def __number_of_passangers(self):\n",
        "    pass\n",
        "\n",
        "  def distance(self):\n",
        "    pass\n",
        "\n",
        "  def mode(self):\n",
        "    pass\n",
        "\n",
        "class train(Travel):\n",
        "\n",
        "  def __init__(self, total_passangers):\n",
        "    self.total_passangers = total_passangers\n",
        "\n",
        "  def cost_of_transport(self):\n",
        "    print(self.total_passangers*60)\n",
        "\n",
        "class bus(Travel):\n",
        "\n",
        "  def __init__(self, total_passangers):\n",
        "    self.total_passangers = total_passangers\n",
        "\n",
        "  def cost_of_transport(self):\n",
        "    print(self.total_passangers*100)\n",
        "\n",
        "mode1 = train(20)\n",
        "mode1.cost_of_transport()\n",
        "\n",
        "mode2 = bus(20)\n",
        "mode2.cost_of_transport()"
      ],
      "execution_count": 7,
      "outputs": [
        {
          "output_type": "stream",
          "name": "stdout",
          "text": [
            "1200\n",
            "2000\n"
          ]
        }
      ]
    },
    {
      "cell_type": "code",
      "metadata": {
        "colab": {
          "base_uri": "https://localhost:8080/"
        },
        "id": "Xu99LbFibfBm",
        "outputId": "d755358b-895e-44b4-954f-6572f18e241f"
      },
      "source": [
        "class car:\n",
        "  def __init__(self,carnumber):\n",
        "    self.carnumber=carnumber\n",
        "c1=car(2010)\n",
        "c2=car(2021)\n",
        "print('model number of c1 is',c1.carnumber)\n",
        "print('model number of c2 is',c2.carnumber)\n",
        "print('--------------------------------')\n",
        "def carnumswap():\n",
        "  c1.carnumber,c2.carnumber=c2.carnumber,c1.carnumber\n",
        "  print(\"model number of c1 is \",c1.carnumber)\n",
        "  print(\"model number of c2 is \",c2.carnumber)\n",
        "carnumswap()"
      ],
      "execution_count": 10,
      "outputs": [
        {
          "output_type": "stream",
          "name": "stdout",
          "text": [
            "model number of c1 is 2010\n",
            "model number of c2 is 2021\n",
            "--------------------------------\n",
            "model number of c1 is  2021\n",
            "model number of c2 is  2010\n"
          ]
        }
      ]
    }
  ]
}